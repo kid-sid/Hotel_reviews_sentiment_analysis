{
  "nbformat": 4,
  "nbformat_minor": 0,
  "metadata": {
    "colab": {
      "name": "Hotel reviews analysis.ipynb",
      "provenance": [],
      "collapsed_sections": []
    },
    "kernelspec": {
      "name": "python3",
      "display_name": "Python 3"
    },
    "language_info": {
      "name": "python"
    }
  },
  "cells": [
    {
      "cell_type": "code",
      "metadata": {
        "id": "Ux2BGy_Mhab7"
      },
      "source": [
        "import pandas as pd"
      ],
      "execution_count": 2,
      "outputs": []
    },
    {
      "cell_type": "code",
      "metadata": {
        "id": "fzH80iQHiV2c",
        "colab": {
          "base_uri": "https://localhost:8080/",
          "height": 197
        },
        "outputId": "8d5e4b32-3f51-4856-a2ea-c18cf4787d97"
      },
      "source": [
        "df = pd.read_csv('/content/drive/MyDrive/hotel.csv')\n",
        "df.head()"
      ],
      "execution_count": 3,
      "outputs": [
        {
          "output_type": "execute_result",
          "data": {
            "text/html": [
              "<div>\n",
              "<style scoped>\n",
              "    .dataframe tbody tr th:only-of-type {\n",
              "        vertical-align: middle;\n",
              "    }\n",
              "\n",
              "    .dataframe tbody tr th {\n",
              "        vertical-align: top;\n",
              "    }\n",
              "\n",
              "    .dataframe thead th {\n",
              "        text-align: right;\n",
              "    }\n",
              "</style>\n",
              "<table border=\"1\" class=\"dataframe\">\n",
              "  <thead>\n",
              "    <tr style=\"text-align: right;\">\n",
              "      <th></th>\n",
              "      <th>Review</th>\n",
              "      <th>date</th>\n",
              "      <th>Location</th>\n",
              "    </tr>\n",
              "  </thead>\n",
              "  <tbody>\n",
              "    <tr>\n",
              "      <th>0</th>\n",
              "      <td>I was very impressed with the resort.\\n Great ...</td>\n",
              "      <td>2019/08/20</td>\n",
              "      <td>Sebastian</td>\n",
              "    </tr>\n",
              "    <tr>\n",
              "      <th>1</th>\n",
              "      <td>The rooms were nice the outside needs work als...</td>\n",
              "      <td>2019/08/20</td>\n",
              "      <td>Los Angeles</td>\n",
              "    </tr>\n",
              "    <tr>\n",
              "      <th>2</th>\n",
              "      <td>Great location! I have stayed at this hotel on...</td>\n",
              "      <td>2019/08/20</td>\n",
              "      <td>Georgia</td>\n",
              "    </tr>\n",
              "    <tr>\n",
              "      <th>3</th>\n",
              "      <td>The hotel was adequate for my stay. The strips...</td>\n",
              "      <td>2019/08/20</td>\n",
              "      <td>NaN</td>\n",
              "    </tr>\n",
              "    <tr>\n",
              "      <th>4</th>\n",
              "      <td>Great location, room was large and spacious. P...</td>\n",
              "      <td>2019/08/19</td>\n",
              "      <td>Palm Harbor</td>\n",
              "    </tr>\n",
              "  </tbody>\n",
              "</table>\n",
              "</div>"
            ],
            "text/plain": [
              "                                              Review        date     Location\n",
              "0  I was very impressed with the resort.\\n Great ...  2019/08/20    Sebastian\n",
              "1  The rooms were nice the outside needs work als...  2019/08/20  Los Angeles\n",
              "2  Great location! I have stayed at this hotel on...  2019/08/20      Georgia\n",
              "3  The hotel was adequate for my stay. The strips...  2019/08/20          NaN\n",
              "4  Great location, room was large and spacious. P...  2019/08/19  Palm Harbor"
            ]
          },
          "metadata": {
            "tags": []
          },
          "execution_count": 3
        }
      ]
    },
    {
      "cell_type": "code",
      "metadata": {
        "colab": {
          "base_uri": "https://localhost:8080/"
        },
        "id": "7M_P2_gFirwu",
        "outputId": "67081369-f30d-434c-f613-8962b35546cd"
      },
      "source": [
        "df.shape # Number of rows and columns in hotel review dataset"
      ],
      "execution_count": 4,
      "outputs": [
        {
          "output_type": "execute_result",
          "data": {
            "text/plain": [
              "(6448, 3)"
            ]
          },
          "metadata": {
            "tags": []
          },
          "execution_count": 4
        }
      ]
    },
    {
      "cell_type": "code",
      "metadata": {
        "colab": {
          "base_uri": "https://localhost:8080/"
        },
        "id": "v0wk-pfRiuan",
        "outputId": "b0d72c8f-15f2-4674-d1d5-5ffb97875ab9"
      },
      "source": [
        "df['Location'].isna().sum()  # Location column is having 4737 NaN values"
      ],
      "execution_count": 5,
      "outputs": [
        {
          "output_type": "execute_result",
          "data": {
            "text/plain": [
              "4737"
            ]
          },
          "metadata": {
            "tags": []
          },
          "execution_count": 5
        }
      ]
    },
    {
      "cell_type": "code",
      "metadata": {
        "colab": {
          "base_uri": "https://localhost:8080/"
        },
        "id": "IgGPJF0Tjh92",
        "outputId": "65c945b3-4224-4e81-b0d8-30cf14586853"
      },
      "source": [
        "df['date'].isna().sum()  # date column has no NaN value"
      ],
      "execution_count": 6,
      "outputs": [
        {
          "output_type": "execute_result",
          "data": {
            "text/plain": [
              "0"
            ]
          },
          "metadata": {
            "tags": []
          },
          "execution_count": 6
        }
      ]
    },
    {
      "cell_type": "code",
      "metadata": {
        "colab": {
          "base_uri": "https://localhost:8080/"
        },
        "id": "thjPTVTWkEoZ",
        "outputId": "8a433477-64b6-4a75-cce9-e30a1b340bfa"
      },
      "source": [
        "df['Review'].isna().sum() # Review column is having 55 NaN values"
      ],
      "execution_count": 7,
      "outputs": [
        {
          "output_type": "execute_result",
          "data": {
            "text/plain": [
              "55"
            ]
          },
          "metadata": {
            "tags": []
          },
          "execution_count": 7
        }
      ]
    },
    {
      "cell_type": "code",
      "metadata": {
        "id": "IAkyIkUHxE_k"
      },
      "source": [
        "df = df[df['Review'].notna()]"
      ],
      "execution_count": 8,
      "outputs": []
    },
    {
      "cell_type": "code",
      "metadata": {
        "colab": {
          "base_uri": "https://localhost:8080/"
        },
        "id": "2V0PJqJ9zYwb",
        "outputId": "6c9c6c7c-2c9b-4755-97ee-22eccfbf88bc"
      },
      "source": [
        "df['Review'].isna().sum()"
      ],
      "execution_count": 9,
      "outputs": [
        {
          "output_type": "execute_result",
          "data": {
            "text/plain": [
              "0"
            ]
          },
          "metadata": {
            "tags": []
          },
          "execution_count": 9
        }
      ]
    },
    {
      "cell_type": "code",
      "metadata": {
        "id": "_wPLfOCEm02A"
      },
      "source": [
        "import seaborn as sns"
      ],
      "execution_count": 10,
      "outputs": []
    },
    {
      "cell_type": "code",
      "metadata": {
        "id": "IIbnMNSHnE9z",
        "colab": {
          "base_uri": "https://localhost:8080/",
          "height": 197
        },
        "outputId": "ecad64cc-75d6-4de3-c5c7-cbe0712af7ee"
      },
      "source": [
        "df['year'] = pd.DatetimeIndex(df['date']).year      # Extracting year from date\n",
        "df['month'] = pd.DatetimeIndex(df['date']).month    # Extracting month from date\n",
        "df.head()"
      ],
      "execution_count": 11,
      "outputs": [
        {
          "output_type": "execute_result",
          "data": {
            "text/html": [
              "<div>\n",
              "<style scoped>\n",
              "    .dataframe tbody tr th:only-of-type {\n",
              "        vertical-align: middle;\n",
              "    }\n",
              "\n",
              "    .dataframe tbody tr th {\n",
              "        vertical-align: top;\n",
              "    }\n",
              "\n",
              "    .dataframe thead th {\n",
              "        text-align: right;\n",
              "    }\n",
              "</style>\n",
              "<table border=\"1\" class=\"dataframe\">\n",
              "  <thead>\n",
              "    <tr style=\"text-align: right;\">\n",
              "      <th></th>\n",
              "      <th>Review</th>\n",
              "      <th>date</th>\n",
              "      <th>Location</th>\n",
              "      <th>year</th>\n",
              "      <th>month</th>\n",
              "    </tr>\n",
              "  </thead>\n",
              "  <tbody>\n",
              "    <tr>\n",
              "      <th>0</th>\n",
              "      <td>I was very impressed with the resort.\\n Great ...</td>\n",
              "      <td>2019/08/20</td>\n",
              "      <td>Sebastian</td>\n",
              "      <td>2019</td>\n",
              "      <td>8</td>\n",
              "    </tr>\n",
              "    <tr>\n",
              "      <th>1</th>\n",
              "      <td>The rooms were nice the outside needs work als...</td>\n",
              "      <td>2019/08/20</td>\n",
              "      <td>Los Angeles</td>\n",
              "      <td>2019</td>\n",
              "      <td>8</td>\n",
              "    </tr>\n",
              "    <tr>\n",
              "      <th>2</th>\n",
              "      <td>Great location! I have stayed at this hotel on...</td>\n",
              "      <td>2019/08/20</td>\n",
              "      <td>Georgia</td>\n",
              "      <td>2019</td>\n",
              "      <td>8</td>\n",
              "    </tr>\n",
              "    <tr>\n",
              "      <th>3</th>\n",
              "      <td>The hotel was adequate for my stay. The strips...</td>\n",
              "      <td>2019/08/20</td>\n",
              "      <td>NaN</td>\n",
              "      <td>2019</td>\n",
              "      <td>8</td>\n",
              "    </tr>\n",
              "    <tr>\n",
              "      <th>4</th>\n",
              "      <td>Great location, room was large and spacious. P...</td>\n",
              "      <td>2019/08/19</td>\n",
              "      <td>Palm Harbor</td>\n",
              "      <td>2019</td>\n",
              "      <td>8</td>\n",
              "    </tr>\n",
              "  </tbody>\n",
              "</table>\n",
              "</div>"
            ],
            "text/plain": [
              "                                              Review        date  ...  year  month\n",
              "0  I was very impressed with the resort.\\n Great ...  2019/08/20  ...  2019      8\n",
              "1  The rooms were nice the outside needs work als...  2019/08/20  ...  2019      8\n",
              "2  Great location! I have stayed at this hotel on...  2019/08/20  ...  2019      8\n",
              "3  The hotel was adequate for my stay. The strips...  2019/08/20  ...  2019      8\n",
              "4  Great location, room was large and spacious. P...  2019/08/19  ...  2019      8\n",
              "\n",
              "[5 rows x 5 columns]"
            ]
          },
          "metadata": {
            "tags": []
          },
          "execution_count": 11
        }
      ]
    },
    {
      "cell_type": "code",
      "metadata": {
        "id": "2l7ZYezhveYJ",
        "colab": {
          "base_uri": "https://localhost:8080/"
        },
        "outputId": "952f2024-68dc-489b-dd04-84a6dfa0e449"
      },
      "source": [
        "df['month'].value_counts()  \n",
        "# Grouping the reviews categorically\n",
        "# August month has the highest bookings and june has the lowest "
      ],
      "execution_count": 12,
      "outputs": [
        {
          "output_type": "execute_result",
          "data": {
            "text/plain": [
              "8     722\n",
              "12    626\n",
              "3     603\n",
              "4     583\n",
              "7     547\n",
              "5     521\n",
              "10    520\n",
              "11    515\n",
              "1     504\n",
              "9     478\n",
              "2     412\n",
              "6     362\n",
              "Name: month, dtype: int64"
            ]
          },
          "metadata": {
            "tags": []
          },
          "execution_count": 12
        }
      ]
    },
    {
      "cell_type": "code",
      "metadata": {
        "id": "YA_p0oXl7DPb"
      },
      "source": [
        "import spacy\n",
        "from spacy import displacy"
      ],
      "execution_count": 13,
      "outputs": []
    },
    {
      "cell_type": "code",
      "metadata": {
        "id": "YUJinn-X7W8m"
      },
      "source": [
        "nlp = spacy.load('en_core_web_sm')   # Loading English language small version"
      ],
      "execution_count": 14,
      "outputs": []
    },
    {
      "cell_type": "code",
      "metadata": {
        "id": "DrV97Gku7om7"
      },
      "source": [
        "text = 'this is the first document. this document is the second document. and this is the third one. is this the first document.'"
      ],
      "execution_count": 15,
      "outputs": []
    },
    {
      "cell_type": "code",
      "metadata": {
        "id": "lQZ_Msgo8XHY"
      },
      "source": [
        "doc = nlp(text)"
      ],
      "execution_count": 16,
      "outputs": []
    },
    {
      "cell_type": "code",
      "metadata": {
        "id": "f6x-DP6w8bgE",
        "colab": {
          "base_uri": "https://localhost:8080/"
        },
        "outputId": "e1b96f98-ec7c-45d2-8260-4d7bf5d57f24"
      },
      "source": [
        "doc  # We can't see any changes but there is a lot of information in doc"
      ],
      "execution_count": 17,
      "outputs": [
        {
          "output_type": "execute_result",
          "data": {
            "text/plain": [
              "this is the first document. this document is the second document. and this is the third one. is this the first document."
            ]
          },
          "metadata": {
            "tags": []
          },
          "execution_count": 17
        }
      ]
    },
    {
      "cell_type": "code",
      "metadata": {
        "id": "EJTt21zW8e4h",
        "colab": {
          "base_uri": "https://localhost:8080/"
        },
        "outputId": "ba696b2a-04c4-4dce-ac11-52c2250494a7"
      },
      "source": [
        "for token in doc:            # Creating tokens from the document\n",
        "    print(token)"
      ],
      "execution_count": 18,
      "outputs": [
        {
          "output_type": "stream",
          "text": [
            "this\n",
            "is\n",
            "the\n",
            "first\n",
            "document\n",
            ".\n",
            "this\n",
            "document\n",
            "is\n",
            "the\n",
            "second\n",
            "document\n",
            ".\n",
            "and\n",
            "this\n",
            "is\n",
            "the\n",
            "third\n",
            "one\n",
            ".\n",
            "is\n",
            "this\n",
            "the\n",
            "first\n",
            "document\n",
            ".\n"
          ],
          "name": "stdout"
        }
      ]
    },
    {
      "cell_type": "code",
      "metadata": {
        "id": "OUDALj6I8xhn"
      },
      "source": [
        "sent = nlp.create_pipe('sentencizer')"
      ],
      "execution_count": 19,
      "outputs": []
    },
    {
      "cell_type": "code",
      "metadata": {
        "id": "ZTS3WTCI9Z-g"
      },
      "source": [
        "nlp.add_pipe(sent,before='parser')"
      ],
      "execution_count": 20,
      "outputs": []
    },
    {
      "cell_type": "code",
      "metadata": {
        "id": "R8qH2nfU9a6U"
      },
      "source": [
        "doc = nlp(text)"
      ],
      "execution_count": 21,
      "outputs": []
    },
    {
      "cell_type": "code",
      "metadata": {
        "id": "uni7wCQu9a-X",
        "colab": {
          "base_uri": "https://localhost:8080/"
        },
        "outputId": "61ce9168-a309-49ae-f9ce-d0cf569ff46b"
      },
      "source": [
        "for sent in doc.sents:\n",
        "    print(sent)"
      ],
      "execution_count": 22,
      "outputs": [
        {
          "output_type": "stream",
          "text": [
            "this is the first document.\n",
            "this document is the second document.\n",
            "and this is the third one.\n",
            "is this the first document.\n"
          ],
          "name": "stdout"
        }
      ]
    },
    {
      "cell_type": "code",
      "metadata": {
        "id": "xi3PkiXw9bCU"
      },
      "source": [
        "from spacy.lang.en.stop_words import STOP_WORDS     # Importing English language stop words"
      ],
      "execution_count": 23,
      "outputs": []
    },
    {
      "cell_type": "code",
      "metadata": {
        "id": "1hZfr34H9bFf",
        "colab": {
          "base_uri": "https://localhost:8080/"
        },
        "outputId": "c66d5fb1-bea3-408e-eb9e-24beeb1d46ec"
      },
      "source": [
        "stopwords = list(STOP_WORDS)\n",
        "stopwords"
      ],
      "execution_count": 24,
      "outputs": [
        {
          "output_type": "execute_result",
          "data": {
            "text/plain": [
              "['any',\n",
              " 'toward',\n",
              " 'regarding',\n",
              " 'you',\n",
              " 'a',\n",
              " 'please',\n",
              " 'hereafter',\n",
              " 'our',\n",
              " 'few',\n",
              " 'wherein',\n",
              " 'formerly',\n",
              " 'almost',\n",
              " 'whether',\n",
              " 'whereupon',\n",
              " 'latterly',\n",
              " 'as',\n",
              " 'above',\n",
              " 'your',\n",
              " 'twenty',\n",
              " 'of',\n",
              " 'within',\n",
              " '’re',\n",
              " \"'ve\",\n",
              " '’m',\n",
              " 'amongst',\n",
              " 'thereby',\n",
              " \"'ll\",\n",
              " 'whoever',\n",
              " 'even',\n",
              " 'doing',\n",
              " 'unless',\n",
              " 'how',\n",
              " 'when',\n",
              " '’d',\n",
              " 'fifty',\n",
              " 'rather',\n",
              " 'sometimes',\n",
              " 'can',\n",
              " 'bottom',\n",
              " 'again',\n",
              " 'so',\n",
              " 'seems',\n",
              " 'another',\n",
              " 'yet',\n",
              " 'put',\n",
              " 'front',\n",
              " 'hence',\n",
              " 'i',\n",
              " 'thus',\n",
              " 'six',\n",
              " 'sixty',\n",
              " 'except',\n",
              " 'those',\n",
              " 'whenever',\n",
              " 'an',\n",
              " 'its',\n",
              " 'others',\n",
              " 'must',\n",
              " 'together',\n",
              " 'nothing',\n",
              " 'made',\n",
              " 'once',\n",
              " 'show',\n",
              " 'per',\n",
              " 'go',\n",
              " 'anyone',\n",
              " 'therein',\n",
              " 'one',\n",
              " 'before',\n",
              " 'meanwhile',\n",
              " 'seemed',\n",
              " 'have',\n",
              " 'thereafter',\n",
              " 'here',\n",
              " 'has',\n",
              " 'herein',\n",
              " 'various',\n",
              " 'own',\n",
              " 'yourself',\n",
              " 'becoming',\n",
              " 'move',\n",
              " 'why',\n",
              " 'indeed',\n",
              " 'same',\n",
              " 'top',\n",
              " 'always',\n",
              " 'behind',\n",
              " 'other',\n",
              " 'wherever',\n",
              " 'anything',\n",
              " 'side',\n",
              " 'them',\n",
              " 'this',\n",
              " 'eight',\n",
              " 'much',\n",
              " 'namely',\n",
              " 'be',\n",
              " '‘ve',\n",
              " 'hereupon',\n",
              " 'nevertheless',\n",
              " 'would',\n",
              " 'off',\n",
              " 'anywhere',\n",
              " 'well',\n",
              " 'all',\n",
              " 'amount',\n",
              " 'itself',\n",
              " 'himself',\n",
              " 'beforehand',\n",
              " 'beside',\n",
              " 'last',\n",
              " 'their',\n",
              " 'we',\n",
              " 'if',\n",
              " 'serious',\n",
              " 'twelve',\n",
              " 'perhaps',\n",
              " 'via',\n",
              " 'n‘t',\n",
              " 'us',\n",
              " 'towards',\n",
              " 'afterwards',\n",
              " 'am',\n",
              " '‘ll',\n",
              " 'nobody',\n",
              " 'her',\n",
              " 'becomes',\n",
              " 'further',\n",
              " 'really',\n",
              " 'down',\n",
              " 'done',\n",
              " 'latter',\n",
              " 'name',\n",
              " 'too',\n",
              " 'only',\n",
              " 'third',\n",
              " 'cannot',\n",
              " 'then',\n",
              " 'about',\n",
              " \"'re\",\n",
              " 'at',\n",
              " 'otherwise',\n",
              " 'with',\n",
              " 'thru',\n",
              " 'none',\n",
              " 'until',\n",
              " 'to',\n",
              " 'from',\n",
              " 're',\n",
              " 'thereupon',\n",
              " 'up',\n",
              " 'his',\n",
              " 'quite',\n",
              " 'is',\n",
              " 'hers',\n",
              " 'two',\n",
              " 'ours',\n",
              " 'full',\n",
              " 'nine',\n",
              " 'themselves',\n",
              " 'after',\n",
              " 'being',\n",
              " 'across',\n",
              " 'could',\n",
              " 'because',\n",
              " 'whence',\n",
              " 'are',\n",
              " 'now',\n",
              " '’ve',\n",
              " 'that',\n",
              " 'yourselves',\n",
              " 'somewhere',\n",
              " 'over',\n",
              " 'upon',\n",
              " 'against',\n",
              " 'however',\n",
              " 'forty',\n",
              " 'somehow',\n",
              " 'than',\n",
              " 'he',\n",
              " 'does',\n",
              " 'moreover',\n",
              " 'into',\n",
              " 'next',\n",
              " 'former',\n",
              " 'whither',\n",
              " 'noone',\n",
              " 'throughout',\n",
              " 'by',\n",
              " 'on',\n",
              " 'say',\n",
              " 'who',\n",
              " 'else',\n",
              " 'three',\n",
              " 'less',\n",
              " 'hundred',\n",
              " 'was',\n",
              " \"'s\",\n",
              " 'but',\n",
              " 'whereas',\n",
              " 'just',\n",
              " 'anyhow',\n",
              " 'and',\n",
              " 'part',\n",
              " 'she',\n",
              " 'get',\n",
              " 'give',\n",
              " 'under',\n",
              " 'whom',\n",
              " 'it',\n",
              " 'each',\n",
              " 'eleven',\n",
              " 'every',\n",
              " 'no',\n",
              " 'do',\n",
              " 'whole',\n",
              " 'ever',\n",
              " 'seem',\n",
              " 'whose',\n",
              " 'him',\n",
              " 'though',\n",
              " 'during',\n",
              " 'herself',\n",
              " 'become',\n",
              " 'call',\n",
              " 'through',\n",
              " 'several',\n",
              " 'while',\n",
              " '‘m',\n",
              " 'take',\n",
              " 'not',\n",
              " 'along',\n",
              " 'using',\n",
              " 'since',\n",
              " 'around',\n",
              " 'although',\n",
              " 'the',\n",
              " 'without',\n",
              " 'there',\n",
              " 'been',\n",
              " 'seeming',\n",
              " \"'d\",\n",
              " 'everywhere',\n",
              " 'enough',\n",
              " 'something',\n",
              " 'nowhere',\n",
              " 'ten',\n",
              " 'my',\n",
              " '‘s',\n",
              " 'among',\n",
              " 'mine',\n",
              " 'did',\n",
              " 'what',\n",
              " 'see',\n",
              " 'often',\n",
              " 'many',\n",
              " 'may',\n",
              " 'ourselves',\n",
              " 'first',\n",
              " 'should',\n",
              " '‘re',\n",
              " 'back',\n",
              " 'five',\n",
              " 'whereafter',\n",
              " '’ll',\n",
              " 'beyond',\n",
              " 'everyone',\n",
              " 'these',\n",
              " 'whatever',\n",
              " 'sometime',\n",
              " 'where',\n",
              " '‘d',\n",
              " 'might',\n",
              " 'used',\n",
              " 'still',\n",
              " 'whereby',\n",
              " 'mostly',\n",
              " 'some',\n",
              " 'will',\n",
              " 'such',\n",
              " 'for',\n",
              " 'least',\n",
              " 'myself',\n",
              " 'keep',\n",
              " 'became',\n",
              " 'everything',\n",
              " \"'m\",\n",
              " 'therefore',\n",
              " 'empty',\n",
              " 'nor',\n",
              " 'had',\n",
              " 'very',\n",
              " 'four',\n",
              " '’s',\n",
              " 'make',\n",
              " 'also',\n",
              " 'alone',\n",
              " 'neither',\n",
              " 'due',\n",
              " 'thence',\n",
              " 'out',\n",
              " \"n't\",\n",
              " 'were',\n",
              " 'below',\n",
              " 'either',\n",
              " 'already',\n",
              " 'never',\n",
              " 'onto',\n",
              " 'between',\n",
              " 'yours',\n",
              " 'anyway',\n",
              " 'in',\n",
              " 'both',\n",
              " 'more',\n",
              " 'most',\n",
              " 'someone',\n",
              " 'ca',\n",
              " 'me',\n",
              " 'which',\n",
              " 'fifteen',\n",
              " 'elsewhere',\n",
              " 'they',\n",
              " 'hereby',\n",
              " 'or',\n",
              " 'n’t',\n",
              " 'besides']"
            ]
          },
          "metadata": {
            "tags": []
          },
          "execution_count": 24
        }
      ]
    },
    {
      "cell_type": "code",
      "metadata": {
        "id": "MPFt7VdM-WkN",
        "colab": {
          "base_uri": "https://localhost:8080/"
        },
        "outputId": "ba8b4259-7743-4ffe-fce5-d5d812a7245f"
      },
      "source": [
        "len(stopwords)"
      ],
      "execution_count": 25,
      "outputs": [
        {
          "output_type": "execute_result",
          "data": {
            "text/plain": [
              "326"
            ]
          },
          "metadata": {
            "tags": []
          },
          "execution_count": 25
        }
      ]
    },
    {
      "cell_type": "code",
      "metadata": {
        "id": "VLZDqRhV-jQi",
        "colab": {
          "base_uri": "https://localhost:8080/"
        },
        "outputId": "28f52492-0e9e-4859-9b08-96bb7072adf2"
      },
      "source": [
        "for token in doc:\n",
        "    if token.is_stop == False:\n",
        "        print(token)"
      ],
      "execution_count": 26,
      "outputs": [
        {
          "output_type": "stream",
          "text": [
            "document\n",
            ".\n",
            "document\n",
            "second\n",
            "document\n",
            ".\n",
            ".\n",
            "document\n",
            ".\n"
          ],
          "name": "stdout"
        }
      ]
    },
    {
      "cell_type": "markdown",
      "metadata": {
        "id": "ZMvqeNWmAnf4"
      },
      "source": [
        "## Lemmatization:"
      ]
    },
    {
      "cell_type": "code",
      "metadata": {
        "id": "Dct6tRgd_Uwm",
        "colab": {
          "base_uri": "https://localhost:8080/"
        },
        "outputId": "c77f5cc3-f2a6-491e-b145-064797551666"
      },
      "source": [
        "for lem in doc:                    # Converting the words to the root forms\n",
        "    print(lem.text, lem.lemma_)"
      ],
      "execution_count": 27,
      "outputs": [
        {
          "output_type": "stream",
          "text": [
            "this this\n",
            "is be\n",
            "the the\n",
            "first first\n",
            "document document\n",
            ". .\n",
            "this this\n",
            "document document\n",
            "is be\n",
            "the the\n",
            "second second\n",
            "document document\n",
            ". .\n",
            "and and\n",
            "this this\n",
            "is be\n",
            "the the\n",
            "third third\n",
            "one one\n",
            ". .\n",
            "is be\n",
            "this this\n",
            "the the\n",
            "first first\n",
            "document document\n",
            ". .\n"
          ],
          "name": "stdout"
        }
      ]
    },
    {
      "cell_type": "markdown",
      "metadata": {
        "id": "Ywof5kFPBLuJ"
      },
      "source": [
        "## Part of speech:"
      ]
    },
    {
      "cell_type": "code",
      "metadata": {
        "id": "s1Ebru0ZA7nL",
        "colab": {
          "base_uri": "https://localhost:8080/"
        },
        "outputId": "34c02e56-f505-4c97-c984-55b8dcb3b894"
      },
      "source": [
        "for token in doc:                   # We can check the part of speech for all the words present in corpus\n",
        "    print(token.text,token.pos_)"
      ],
      "execution_count": 28,
      "outputs": [
        {
          "output_type": "stream",
          "text": [
            "this DET\n",
            "is AUX\n",
            "the DET\n",
            "first ADJ\n",
            "document NOUN\n",
            ". PUNCT\n",
            "this DET\n",
            "document NOUN\n",
            "is AUX\n",
            "the DET\n",
            "second ADJ\n",
            "document NOUN\n",
            ". PUNCT\n",
            "and CCONJ\n",
            "this DET\n",
            "is AUX\n",
            "the DET\n",
            "third ADJ\n",
            "one NOUN\n",
            ". PUNCT\n",
            "is AUX\n",
            "this DET\n",
            "the DET\n",
            "first ADJ\n",
            "document NOUN\n",
            ". PUNCT\n"
          ],
          "name": "stdout"
        }
      ]
    },
    {
      "cell_type": "code",
      "metadata": {
        "id": "7uGSDKy8EeIi"
      },
      "source": [
        "from sklearn.feature_extraction.text import TfidfVectorizer\n",
        "from sklearn.pipeline import Pipeline\n",
        "from sklearn.model_selection import train_test_split\n",
        "from sklearn.metrics import accuracy_score,classification_report,confusion_matrix"
      ],
      "execution_count": 29,
      "outputs": []
    },
    {
      "cell_type": "code",
      "metadata": {
        "colab": {
          "base_uri": "https://localhost:8080/",
          "height": 197
        },
        "id": "YwzVQ0uewGkj",
        "outputId": "e9ef52fc-dc43-4f6f-d82e-8b77fcc9beea"
      },
      "source": [
        "data_yelp = pd.read_csv('/content/drive/MyDrive/Colab Notebooks/Sentiment dataset/yelp.txt', sep='\\t', header = None)\n",
        "data_yelp.head()"
      ],
      "execution_count": 30,
      "outputs": [
        {
          "output_type": "execute_result",
          "data": {
            "text/html": [
              "<div>\n",
              "<style scoped>\n",
              "    .dataframe tbody tr th:only-of-type {\n",
              "        vertical-align: middle;\n",
              "    }\n",
              "\n",
              "    .dataframe tbody tr th {\n",
              "        vertical-align: top;\n",
              "    }\n",
              "\n",
              "    .dataframe thead th {\n",
              "        text-align: right;\n",
              "    }\n",
              "</style>\n",
              "<table border=\"1\" class=\"dataframe\">\n",
              "  <thead>\n",
              "    <tr style=\"text-align: right;\">\n",
              "      <th></th>\n",
              "      <th>0</th>\n",
              "      <th>1</th>\n",
              "    </tr>\n",
              "  </thead>\n",
              "  <tbody>\n",
              "    <tr>\n",
              "      <th>0</th>\n",
              "      <td>Wow... Loved this place.</td>\n",
              "      <td>1</td>\n",
              "    </tr>\n",
              "    <tr>\n",
              "      <th>1</th>\n",
              "      <td>Crust is not good.</td>\n",
              "      <td>0</td>\n",
              "    </tr>\n",
              "    <tr>\n",
              "      <th>2</th>\n",
              "      <td>Not tasty and the texture was just nasty.</td>\n",
              "      <td>0</td>\n",
              "    </tr>\n",
              "    <tr>\n",
              "      <th>3</th>\n",
              "      <td>Stopped by during the late May bank holiday of...</td>\n",
              "      <td>1</td>\n",
              "    </tr>\n",
              "    <tr>\n",
              "      <th>4</th>\n",
              "      <td>The selection on the menu was great and so wer...</td>\n",
              "      <td>1</td>\n",
              "    </tr>\n",
              "  </tbody>\n",
              "</table>\n",
              "</div>"
            ],
            "text/plain": [
              "                                                   0  1\n",
              "0                           Wow... Loved this place.  1\n",
              "1                                 Crust is not good.  0\n",
              "2          Not tasty and the texture was just nasty.  0\n",
              "3  Stopped by during the late May bank holiday of...  1\n",
              "4  The selection on the menu was great and so wer...  1"
            ]
          },
          "metadata": {
            "tags": []
          },
          "execution_count": 30
        }
      ]
    },
    {
      "cell_type": "code",
      "metadata": {
        "colab": {
          "base_uri": "https://localhost:8080/",
          "height": 197
        },
        "id": "mSoBX4PT14uo",
        "outputId": "ed6e87f6-bef0-423e-ff1e-7410274476c6"
      },
      "source": [
        "columns_name = ['Review', 'Sentiment']     # Renaming the columns\n",
        "data_yelp.columns = columns_name\n",
        "data_yelp.head()"
      ],
      "execution_count": 31,
      "outputs": [
        {
          "output_type": "execute_result",
          "data": {
            "text/html": [
              "<div>\n",
              "<style scoped>\n",
              "    .dataframe tbody tr th:only-of-type {\n",
              "        vertical-align: middle;\n",
              "    }\n",
              "\n",
              "    .dataframe tbody tr th {\n",
              "        vertical-align: top;\n",
              "    }\n",
              "\n",
              "    .dataframe thead th {\n",
              "        text-align: right;\n",
              "    }\n",
              "</style>\n",
              "<table border=\"1\" class=\"dataframe\">\n",
              "  <thead>\n",
              "    <tr style=\"text-align: right;\">\n",
              "      <th></th>\n",
              "      <th>Review</th>\n",
              "      <th>Sentiment</th>\n",
              "    </tr>\n",
              "  </thead>\n",
              "  <tbody>\n",
              "    <tr>\n",
              "      <th>0</th>\n",
              "      <td>Wow... Loved this place.</td>\n",
              "      <td>1</td>\n",
              "    </tr>\n",
              "    <tr>\n",
              "      <th>1</th>\n",
              "      <td>Crust is not good.</td>\n",
              "      <td>0</td>\n",
              "    </tr>\n",
              "    <tr>\n",
              "      <th>2</th>\n",
              "      <td>Not tasty and the texture was just nasty.</td>\n",
              "      <td>0</td>\n",
              "    </tr>\n",
              "    <tr>\n",
              "      <th>3</th>\n",
              "      <td>Stopped by during the late May bank holiday of...</td>\n",
              "      <td>1</td>\n",
              "    </tr>\n",
              "    <tr>\n",
              "      <th>4</th>\n",
              "      <td>The selection on the menu was great and so wer...</td>\n",
              "      <td>1</td>\n",
              "    </tr>\n",
              "  </tbody>\n",
              "</table>\n",
              "</div>"
            ],
            "text/plain": [
              "                                              Review  Sentiment\n",
              "0                           Wow... Loved this place.          1\n",
              "1                                 Crust is not good.          0\n",
              "2          Not tasty and the texture was just nasty.          0\n",
              "3  Stopped by during the late May bank holiday of...          1\n",
              "4  The selection on the menu was great and so wer...          1"
            ]
          },
          "metadata": {
            "tags": []
          },
          "execution_count": 31
        }
      ]
    },
    {
      "cell_type": "code",
      "metadata": {
        "colab": {
          "base_uri": "https://localhost:8080/",
          "height": 197
        },
        "id": "siTBjvXI0vud",
        "outputId": "ca9ed630-0954-4d32-8655-6bb1a63afbf8"
      },
      "source": [
        "data_amazon = pd.read_csv('/content/drive/MyDrive/Colab Notebooks/Sentiment dataset/amazon.txt', sep='\\t', header = None)\n",
        "data_amazon.columns = columns_name\n",
        "data_amazon.head()"
      ],
      "execution_count": 32,
      "outputs": [
        {
          "output_type": "execute_result",
          "data": {
            "text/html": [
              "<div>\n",
              "<style scoped>\n",
              "    .dataframe tbody tr th:only-of-type {\n",
              "        vertical-align: middle;\n",
              "    }\n",
              "\n",
              "    .dataframe tbody tr th {\n",
              "        vertical-align: top;\n",
              "    }\n",
              "\n",
              "    .dataframe thead th {\n",
              "        text-align: right;\n",
              "    }\n",
              "</style>\n",
              "<table border=\"1\" class=\"dataframe\">\n",
              "  <thead>\n",
              "    <tr style=\"text-align: right;\">\n",
              "      <th></th>\n",
              "      <th>Review</th>\n",
              "      <th>Sentiment</th>\n",
              "    </tr>\n",
              "  </thead>\n",
              "  <tbody>\n",
              "    <tr>\n",
              "      <th>0</th>\n",
              "      <td>So there is no way for me to plug it in here i...</td>\n",
              "      <td>0</td>\n",
              "    </tr>\n",
              "    <tr>\n",
              "      <th>1</th>\n",
              "      <td>Good case, Excellent value.</td>\n",
              "      <td>1</td>\n",
              "    </tr>\n",
              "    <tr>\n",
              "      <th>2</th>\n",
              "      <td>Great for the jawbone.</td>\n",
              "      <td>1</td>\n",
              "    </tr>\n",
              "    <tr>\n",
              "      <th>3</th>\n",
              "      <td>Tied to charger for conversations lasting more...</td>\n",
              "      <td>0</td>\n",
              "    </tr>\n",
              "    <tr>\n",
              "      <th>4</th>\n",
              "      <td>The mic is great.</td>\n",
              "      <td>1</td>\n",
              "    </tr>\n",
              "  </tbody>\n",
              "</table>\n",
              "</div>"
            ],
            "text/plain": [
              "                                              Review  Sentiment\n",
              "0  So there is no way for me to plug it in here i...          0\n",
              "1                        Good case, Excellent value.          1\n",
              "2                             Great for the jawbone.          1\n",
              "3  Tied to charger for conversations lasting more...          0\n",
              "4                                  The mic is great.          1"
            ]
          },
          "metadata": {
            "tags": []
          },
          "execution_count": 32
        }
      ]
    },
    {
      "cell_type": "code",
      "metadata": {
        "colab": {
          "base_uri": "https://localhost:8080/",
          "height": 197
        },
        "id": "KPvMWEnxwGoR",
        "outputId": "ba120a40-643f-4d01-ec7f-4e12c9b31c94"
      },
      "source": [
        "data_imdb = pd.read_csv('/content/drive/MyDrive/Colab Notebooks/Sentiment dataset/imdb.txt', sep='\\t', header = None)\n",
        "data_imdb.columns = columns_name\n",
        "data_imdb.head()"
      ],
      "execution_count": 33,
      "outputs": [
        {
          "output_type": "execute_result",
          "data": {
            "text/html": [
              "<div>\n",
              "<style scoped>\n",
              "    .dataframe tbody tr th:only-of-type {\n",
              "        vertical-align: middle;\n",
              "    }\n",
              "\n",
              "    .dataframe tbody tr th {\n",
              "        vertical-align: top;\n",
              "    }\n",
              "\n",
              "    .dataframe thead th {\n",
              "        text-align: right;\n",
              "    }\n",
              "</style>\n",
              "<table border=\"1\" class=\"dataframe\">\n",
              "  <thead>\n",
              "    <tr style=\"text-align: right;\">\n",
              "      <th></th>\n",
              "      <th>Review</th>\n",
              "      <th>Sentiment</th>\n",
              "    </tr>\n",
              "  </thead>\n",
              "  <tbody>\n",
              "    <tr>\n",
              "      <th>0</th>\n",
              "      <td>A very, very, very slow-moving, aimless movie ...</td>\n",
              "      <td>0</td>\n",
              "    </tr>\n",
              "    <tr>\n",
              "      <th>1</th>\n",
              "      <td>Not sure who was more lost - the flat characte...</td>\n",
              "      <td>0</td>\n",
              "    </tr>\n",
              "    <tr>\n",
              "      <th>2</th>\n",
              "      <td>Attempting artiness with black &amp; white and cle...</td>\n",
              "      <td>0</td>\n",
              "    </tr>\n",
              "    <tr>\n",
              "      <th>3</th>\n",
              "      <td>Very little music or anything to speak of.</td>\n",
              "      <td>0</td>\n",
              "    </tr>\n",
              "    <tr>\n",
              "      <th>4</th>\n",
              "      <td>The best scene in the movie was when Gerardo i...</td>\n",
              "      <td>1</td>\n",
              "    </tr>\n",
              "  </tbody>\n",
              "</table>\n",
              "</div>"
            ],
            "text/plain": [
              "                                              Review  Sentiment\n",
              "0  A very, very, very slow-moving, aimless movie ...          0\n",
              "1  Not sure who was more lost - the flat characte...          0\n",
              "2  Attempting artiness with black & white and cle...          0\n",
              "3       Very little music or anything to speak of.            0\n",
              "4  The best scene in the movie was when Gerardo i...          1"
            ]
          },
          "metadata": {
            "tags": []
          },
          "execution_count": 33
        }
      ]
    },
    {
      "cell_type": "code",
      "metadata": {
        "colab": {
          "base_uri": "https://localhost:8080/"
        },
        "id": "Mq9Qum0p04lB",
        "outputId": "ca9b8484-13b6-4ab5-85cf-b826c05f497b"
      },
      "source": [
        "dataset = data_yelp.append([data_amazon, data_imdb], ignore_index=True)\n",
        "dataset.shape  # Merging all the datasets"
      ],
      "execution_count": 34,
      "outputs": [
        {
          "output_type": "execute_result",
          "data": {
            "text/plain": [
              "(2748, 2)"
            ]
          },
          "metadata": {
            "tags": []
          },
          "execution_count": 34
        }
      ]
    },
    {
      "cell_type": "code",
      "metadata": {
        "colab": {
          "base_uri": "https://localhost:8080/"
        },
        "id": "pk9LhDc504gQ",
        "outputId": "8e59944d-92d6-40c3-ba8c-37084d541df3"
      },
      "source": [
        "dataset['Sentiment'].value_counts()      # Counting the values present in Sentiment column"
      ],
      "execution_count": 35,
      "outputs": [
        {
          "output_type": "execute_result",
          "data": {
            "text/plain": [
              "1    1386\n",
              "0    1362\n",
              "Name: Sentiment, dtype: int64"
            ]
          },
          "metadata": {
            "tags": []
          },
          "execution_count": 35
        }
      ]
    },
    {
      "cell_type": "code",
      "metadata": {
        "colab": {
          "base_uri": "https://localhost:8080/"
        },
        "id": "lyieetfM7fEP",
        "outputId": "bae73bf5-5938-48c9-bdef-b50ede4d0ab6"
      },
      "source": [
        "dataset.isnull().sum()   # Checking for null values"
      ],
      "execution_count": 36,
      "outputs": [
        {
          "output_type": "execute_result",
          "data": {
            "text/plain": [
              "Review       0\n",
              "Sentiment    0\n",
              "dtype: int64"
            ]
          },
          "metadata": {
            "tags": []
          },
          "execution_count": 36
        }
      ]
    },
    {
      "cell_type": "code",
      "metadata": {
        "id": "BUIU6T--N_s_"
      },
      "source": [
        "import string"
      ],
      "execution_count": 37,
      "outputs": []
    },
    {
      "cell_type": "code",
      "metadata": {
        "id": "grviCsh5PjOV",
        "colab": {
          "base_uri": "https://localhost:8080/",
          "height": 35
        },
        "outputId": "4732ce48-2a43-44d3-ad6a-266540d00bed"
      },
      "source": [
        "punct =  string.punctuation           # String module contains the below punctuations\n",
        "punct"
      ],
      "execution_count": 38,
      "outputs": [
        {
          "output_type": "execute_result",
          "data": {
            "application/vnd.google.colaboratory.intrinsic+json": {
              "type": "string"
            },
            "text/plain": [
              "'!\"#$%&\\'()*+,-./:;<=>?@[\\\\]^_`{|}~'"
            ]
          },
          "metadata": {
            "tags": []
          },
          "execution_count": 38
        }
      ]
    },
    {
      "cell_type": "code",
      "metadata": {
        "id": "xHl8BakHPpX6",
        "colab": {
          "base_uri": "https://localhost:8080/"
        },
        "outputId": "eaf093a7-cbdf-4668-b615-ec1d235c6edb"
      },
      "source": [
        "def text_data_cleaning(sentence):      # This function will clean the text documents and will give the word tokens\n",
        "    doc = nlp(sentence)\n",
        "    \n",
        "    tokens = []\n",
        "    for token in doc:\n",
        "        if token.lemma_ != \"-PRON-\":\n",
        "            temp = token.lemma_.lower().strip()\n",
        "        else:\n",
        "            temp = token.lower_\n",
        "        tokens.append(temp)\n",
        "    \n",
        "    cleaned_tokens = []\n",
        "    for token in tokens:\n",
        "        if token not in stopwords and token not in punct:\n",
        "            cleaned_tokens.append(token)\n",
        "    return cleaned_tokens\n",
        "    \n",
        "text_data_cleaning(\"    Hello how are you? Like this video\")"
      ],
      "execution_count": 39,
      "outputs": [
        {
          "output_type": "execute_result",
          "data": {
            "text/plain": [
              "['hello', 'like', 'video']"
            ]
          },
          "metadata": {
            "tags": []
          },
          "execution_count": 39
        }
      ]
    },
    {
      "cell_type": "markdown",
      "metadata": {
        "id": "oNtHsI5GWMJ7"
      },
      "source": [
        "## TF-IDF vectorization:"
      ]
    },
    {
      "cell_type": "code",
      "metadata": {
        "id": "GylbSVr9STKc"
      },
      "source": [
        "from sklearn.svm import LinearSVC"
      ],
      "execution_count": 40,
      "outputs": []
    },
    {
      "cell_type": "code",
      "metadata": {
        "id": "RGAFcKNEWao0"
      },
      "source": [
        "tfidf = TfidfVectorizer(tokenizer = text_data_cleaning)\n",
        "classifier = LinearSVC()"
      ],
      "execution_count": 41,
      "outputs": []
    },
    {
      "cell_type": "code",
      "metadata": {
        "id": "3_pFERO4eigD"
      },
      "source": [
        "X = dataset['Review']\n",
        "y = dataset['Sentiment']"
      ],
      "execution_count": 42,
      "outputs": []
    },
    {
      "cell_type": "code",
      "metadata": {
        "colab": {
          "base_uri": "https://localhost:8080/"
        },
        "id": "IMmnVN7q73sF",
        "outputId": "a933d842-02c8-468d-caa0-25b97729c6ec"
      },
      "source": [
        "X_train, X_test, y_train, y_test = train_test_split(X, y, test_size = 0.2, random_state = 42)\n",
        "X_train.shape, X_test.shape\n",
        "\n",
        "# Splitting the data to train=80% and test=20%\n",
        "# https://stackoverflow.com/questions/42191717/scikit-learn-random-state-in-splitting-dataset"
      ],
      "execution_count": 43,
      "outputs": [
        {
          "output_type": "execute_result",
          "data": {
            "text/plain": [
              "((2198,), (550,))"
            ]
          },
          "metadata": {
            "tags": []
          },
          "execution_count": 43
        }
      ]
    },
    {
      "cell_type": "code",
      "metadata": {
        "colab": {
          "base_uri": "https://localhost:8080/"
        },
        "id": "I4_iaWTG8BdI",
        "outputId": "0dea99b1-5a7b-4acf-eafa-e85801c6d3fb"
      },
      "source": [
        "clf = Pipeline([('tfidf', tfidf), ('clf', classifier)])\n",
        "clf.fit(X_train, y_train)"
      ],
      "execution_count": 44,
      "outputs": [
        {
          "output_type": "execute_result",
          "data": {
            "text/plain": [
              "Pipeline(memory=None,\n",
              "         steps=[('tfidf',\n",
              "                 TfidfVectorizer(analyzer='word', binary=False,\n",
              "                                 decode_error='strict',\n",
              "                                 dtype=<class 'numpy.float64'>,\n",
              "                                 encoding='utf-8', input='content',\n",
              "                                 lowercase=True, max_df=1.0, max_features=None,\n",
              "                                 min_df=1, ngram_range=(1, 1), norm='l2',\n",
              "                                 preprocessor=None, smooth_idf=True,\n",
              "                                 stop_words=None, strip_accents=None,\n",
              "                                 sublinear_tf=False,\n",
              "                                 token_pattern='(?u)\\\\b\\\\w\\\\w+\\\\b',\n",
              "                                 tokenizer=<function text_data_cleaning at 0x7f8d6c3577a0>,\n",
              "                                 use_idf=True, vocabulary=None)),\n",
              "                ('clf',\n",
              "                 LinearSVC(C=1.0, class_weight=None, dual=True,\n",
              "                           fit_intercept=True, intercept_scaling=1,\n",
              "                           loss='squared_hinge', max_iter=1000,\n",
              "                           multi_class='ovr', penalty='l2', random_state=None,\n",
              "                           tol=0.0001, verbose=0))],\n",
              "         verbose=False)"
            ]
          },
          "metadata": {
            "tags": []
          },
          "execution_count": 44
        }
      ]
    },
    {
      "cell_type": "code",
      "metadata": {
        "id": "GV7dN8vS8o5Q"
      },
      "source": [
        "y_pred = clf.predict(X_test)"
      ],
      "execution_count": 45,
      "outputs": []
    },
    {
      "cell_type": "code",
      "metadata": {
        "colab": {
          "base_uri": "https://localhost:8080/"
        },
        "id": "XsVt2KL_9QHM",
        "outputId": "f926206d-f627-477e-e135-6c98679cc762"
      },
      "source": [
        "print(classification_report(y_test, y_pred)) # We got 78% accuracy"
      ],
      "execution_count": 46,
      "outputs": [
        {
          "output_type": "stream",
          "text": [
            "              precision    recall  f1-score   support\n",
            "\n",
            "           0       0.77      0.82      0.80       285\n",
            "           1       0.79      0.74      0.77       265\n",
            "\n",
            "    accuracy                           0.78       550\n",
            "   macro avg       0.78      0.78      0.78       550\n",
            "weighted avg       0.78      0.78      0.78       550\n",
            "\n"
          ],
          "name": "stdout"
        }
      ]
    },
    {
      "cell_type": "code",
      "metadata": {
        "colab": {
          "base_uri": "https://localhost:8080/"
        },
        "id": "TEfy5e-b9f_N",
        "outputId": "355a307a-e435-47ee-cfae-9896914e2336"
      },
      "source": [
        "confusion_matrix(y_test, y_pred)\n"
      ],
      "execution_count": 47,
      "outputs": [
        {
          "output_type": "execute_result",
          "data": {
            "text/plain": [
              "array([[233,  52],\n",
              "       [ 68, 197]])"
            ]
          },
          "metadata": {
            "tags": []
          },
          "execution_count": 47
        }
      ]
    },
    {
      "cell_type": "code",
      "metadata": {
        "colab": {
          "base_uri": "https://localhost:8080/"
        },
        "id": "tUdpdOEN9lU4",
        "outputId": "9d46d93a-39f4-4f5e-e86b-d274f30a4874"
      },
      "source": [
        "clf.predict(['product was good'])"
      ],
      "execution_count": 48,
      "outputs": [
        {
          "output_type": "execute_result",
          "data": {
            "text/plain": [
              "array([1])"
            ]
          },
          "metadata": {
            "tags": []
          },
          "execution_count": 48
        }
      ]
    },
    {
      "cell_type": "code",
      "metadata": {
        "colab": {
          "base_uri": "https://localhost:8080/"
        },
        "id": "zAvA3bOL-PTp",
        "outputId": "c1036f55-6c55-41e4-b9f3-6bec3ebce470"
      },
      "source": [
        "new_df = df.drop(columns=['date', 'Location','year','month'], axis = 1)\n",
        "new_df.head"
      ],
      "execution_count": 49,
      "outputs": [
        {
          "output_type": "execute_result",
          "data": {
            "text/plain": [
              "<bound method NDFrame.head of                                                  Review\n",
              "0     I was very impressed with the resort.\\n Great ...\n",
              "1     The rooms were nice the outside needs work als...\n",
              "2     Great location! I have stayed at this hotel on...\n",
              "3     The hotel was adequate for my stay. The strips...\n",
              "4     Great location, room was large and spacious. P...\n",
              "...                                                 ...\n",
              "6443  ·the staff were all so friendly. frank, the ch...\n",
              "6444         ·the internet barely worked or didn't work\n",
              "6445  ·the location was great.\\n \\n \\n \\n \\n ·the be...\n",
              "6446  ·we were early for check in and the staff was ...\n",
              "6447  ·staff, free coffee, location and activities.\\...\n",
              "\n",
              "[6393 rows x 1 columns]>"
            ]
          },
          "metadata": {
            "tags": []
          },
          "execution_count": 49
        }
      ]
    },
    {
      "cell_type": "code",
      "metadata": {
        "id": "YaoQ2Yxy4Wl9"
      },
      "source": [
        "for i in range(len(new_df['Review'])):\n",
        "    new_df.dropna(subset=['Review'])"
      ],
      "execution_count": 50,
      "outputs": []
    },
    {
      "cell_type": "code",
      "metadata": {
        "colab": {
          "base_uri": "https://localhost:8080/"
        },
        "id": "2tJHUssf8uCm",
        "outputId": "d3656ce1-af20-45a7-991e-c42e2394f097"
      },
      "source": [
        "new_df[\"Review\"].isna().sum() \n",
        "# https://www.kite.com/python/answers/how-to-count-the-number-of-nan-values-in-a-pandas-dataframe-column-in-python"
      ],
      "execution_count": 51,
      "outputs": [
        {
          "output_type": "execute_result",
          "data": {
            "text/plain": [
              "0"
            ]
          },
          "metadata": {
            "tags": []
          },
          "execution_count": 51
        }
      ]
    },
    {
      "cell_type": "code",
      "metadata": {
        "colab": {
          "base_uri": "https://localhost:8080/"
        },
        "id": "aa7a_xyD90gq",
        "outputId": "85d210ec-ffbc-4f5f-f446-b832af63901f"
      },
      "source": [
        "new_df[\"Review\"].isna().sum()"
      ],
      "execution_count": 52,
      "outputs": [
        {
          "output_type": "execute_result",
          "data": {
            "text/plain": [
              "0"
            ]
          },
          "metadata": {
            "tags": []
          },
          "execution_count": 52
        }
      ]
    },
    {
      "cell_type": "code",
      "metadata": {
        "id": "CIVU2E4HAA3k"
      },
      "source": [
        "for sentiment in new_df.loc[:,\"Review\"]:    # Predicting the sentiments \n",
        "    print(clf.predict([sentiment]))"
      ],
      "execution_count": null,
      "outputs": []
    },
    {
      "cell_type": "code",
      "metadata": {
        "colab": {
          "base_uri": "https://localhost:8080/"
        },
        "id": "3On8TE5P_2JX",
        "outputId": "9f57e428-af98-4d6d-e8f4-3f85d6704458"
      },
      "source": [
        "k = clf.predict([sentiment])\n",
        "type(k)  # Type of the prediction"
      ],
      "execution_count": 63,
      "outputs": [
        {
          "output_type": "execute_result",
          "data": {
            "text/plain": [
              "numpy.ndarray"
            ]
          },
          "metadata": {
            "tags": []
          },
          "execution_count": 63
        }
      ]
    },
    {
      "cell_type": "code",
      "metadata": {
        "id": "fbs4rhMHnTVI"
      },
      "source": [
        "result= wikipedia.page(\"MachineLearning\")\n",
        "final_result = result.content\n",
        "print(final_result)"
      ],
      "execution_count": null,
      "outputs": []
    },
    {
      "cell_type": "code",
      "metadata": {
        "colab": {
          "base_uri": "https://localhost:8080/",
          "height": 366
        },
        "id": "ozpaP0cbn6sW",
        "outputId": "7ad2f98e-d563-42ff-e253-2163b287d894"
      },
      "source": [
        "# https://stackoverflow.com/questions/16645799/how-to-create-a-word-cloud-from-a-corpus-in-python\n",
        "# Creating word cloud \n",
        "\n",
        "from wordcloud import WordCloud, STOPWORDS\n",
        "import matplotlib.pyplot as plt\n",
        "stopwords = set(STOPWORDS)\n",
        "\n",
        "def show_wordcloud(data, title = None):\n",
        "    wordcloud = WordCloud(\n",
        "        background_color='white',\n",
        "        stopwords=stopwords,\n",
        "        max_words=200,\n",
        "        max_font_size=40, \n",
        "        scale=3,\n",
        "        random_state=1 # chosen at random by flipping a coin; it was heads\n",
        "    ).generate(str(data))\n",
        "\n",
        "    fig = plt.figure(1, figsize=(12, 12))\n",
        "    plt.axis('off')\n",
        "    if title: \n",
        "        fig.suptitle(title, fontsize=20)\n",
        "        fig.subplots_adjust(top=2.3)\n",
        "\n",
        "    plt.imshow(wordcloud)\n",
        "    plt.show()\n",
        "\n",
        "show_wordcloud(new_df['Review'])\n",
        "\n",
        "# Bigger the size of the word, the word is more frequent"
      ],
      "execution_count": 68,
      "outputs": [
        {
          "output_type": "display_data",
          "data": {
            "image/png": "[encoded data removed]",
            "text/plain": [
              "<Figure size 864x864 with 1 Axes>"
            ]
          },
          "metadata": {
            "tags": [],
            "needs_background": "light"
          }
        }
      ]
    },
    {
      "cell_type": "markdown",
      "metadata": {
        "id": "vyqNIoEjovGH"
      },
      "source": [
        "## Conclusion:\n",
        "\n",
        "We can conclude that the most of the reviews are positive"
      ]
    },
    {
      "cell_type": "code",
      "metadata": {
        "id": "98LXvPBOoHnM"
      },
      "source": [
        ""
      ],
      "execution_count": null,
      "outputs": []
    }
  ]
}